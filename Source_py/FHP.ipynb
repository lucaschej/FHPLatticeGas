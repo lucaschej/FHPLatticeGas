{
 "cells": [
  {
   "cell_type": "markdown",
   "metadata": {},
   "source": [
    "# FHP program"
   ]
  },
  {
   "cell_type": "markdown",
   "metadata": {},
   "source": [
    "## Libraries to import"
   ]
  },
  {
   "cell_type": "code",
   "execution_count": 136,
   "metadata": {},
   "outputs": [],
   "source": [
    "import numpy as np\n",
    "import random\n",
    "import matplotlib.pyplot as plt\n",
    "import matplotlib.animation as animation\n",
    "animation.writers.list()  # Verificar los escritores disponibles\n",
    "import pylab as pylab\n",
    "from tqdm import tqdm"
   ]
  },
  {
   "cell_type": "markdown",
   "metadata": {},
   "source": [
    "## Variables"
   ]
  },
  {
   "cell_type": "code",
   "execution_count": 137,
   "metadata": {},
   "outputs": [],
   "source": [
    "rows = 25\n",
    "columns = 25\n",
    "n_particles = 10"
   ]
  },
  {
   "cell_type": "markdown",
   "metadata": {},
   "source": [
    "## Initialize"
   ]
  },
  {
   "cell_type": "code",
   "execution_count": 138,
   "metadata": {},
   "outputs": [],
   "source": [
    "# Aqui se crea el mesh.\n",
    "\n",
    "#Esto crea una versión vectorizada de una función lambda que devuelve un objeto node con el parámetro False.\n",
    "class node:\n",
    "    def __init__(self, occupied):\n",
    "        self.occupied = occupied\n",
    "\n",
    "#Aquí, se crea un array de Numpy de tamaño (rows, columns) lleno de ceros, y luego \n",
    "#se convierte a tipo object. A continuación, se llena cada elemento del array con un objeto node(False).\n",
    "def initialize(rows, columns):\n",
    "    vectorized_object = np.vectorize(lambda obj: node(False))\n",
    "    config = np.zeros((rows, columns)).astype(object) \n",
    "    config[:] = vectorized_object(config[:])\n",
    "    \n",
    "    # adding the walls:\n",
    "    vectorized_object_wall = np.vectorize(lambda obj: node(True))\n",
    "    \n",
    "    #Se crea otra versión vectorizada de una función lambda que devuelve un objeto node(True). \n",
    "    #Esta se utiliza para establecer las \"paredes\" de la cuadrícula en los bordes (primera y última fila, \n",
    "    #primera y última columna) con nodos True.\n",
    "    config[0, :] = vectorized_object_wall(config[0, :])\n",
    "    config[rows-1, :] = vectorized_object_wall(config[rows-1, :])\n",
    "    config[:, 0] = vectorized_object_wall(config[:, 0])\n",
    "    config[:, columns-1] = vectorized_object_wall(config[:, columns-1])\n",
    "     \n",
    "    return config\n",
    "\n",
    "# Función para observar y visualizar la cuadrícula:\n",
    "def observe(config):\n",
    "    vectorized_x = np.vectorize(lambda obj: obj.occupied)\n",
    "    view_grid = vectorized_x(config)\n",
    "    \n",
    "    plt.figure(figsize = (10, 8))\n",
    "    pylab.cla()\n",
    "    pylab.imshow(view_grid, vmin = 0, vmax = 1, cmap = pylab.cm.binary)\n",
    "    plt.show()\n",
    "\n",
    "# Inicializar la cuadrícula y observarla:\n",
    "config = initialize(rows, columns)\n",
    "#observe(config)"
   ]
  },
  {
   "cell_type": "markdown",
   "metadata": {},
   "source": [
    "## Cells class\n",
    "\n",
    "The above class will represent each cell (hexagon) in the lattice. Note that Ni_s has six values to represent the six directions. If a node is set to be a wall, then it’s value will be 1 (while 0 means empty cell)."
   ]
  },
  {
   "cell_type": "code",
   "execution_count": 139,
   "metadata": {},
   "outputs": [],
   "source": [
    "class node: \n",
    "    def __init__(self, wall):\n",
    "        self.ni_s = [0, 0, 0, 0, 0, 0]\n",
    "        self.wall = wall\n",
    "        if not wall:\n",
    "            self.occupied = 0\n",
    "        else:\n",
    "            self.occupied = 1"
   ]
  },
  {
   "cell_type": "markdown",
   "metadata": {},
   "source": [
    "## Neighbords\n",
    "\n",
    "write a function to get the neighbors of a cell given its coordinates in the lattice:\n",
    "Note that I’m using a usual square lattice but to make it hexagonal, I’m only using six surrounding cells for each center cell."
   ]
  },
  {
   "cell_type": "code",
   "execution_count": 140,
   "metadata": {},
   "outputs": [
    {
     "data": {
      "text/plain": [
       "'\"\\n//Six directions + rest particles\\n//  a   b     |   0   1\\n//   \\\\ /      |    \\\\ /\\n//f --g-- c   |  5--6--2\\n//   / \\\\      |    / //  e   d     |   4   3\\n\\na: top left\\nb: top right\\nc: right\\nf: left\\ne: bottom left\\nd: bottom right\\n'"
      ]
     },
     "execution_count": 140,
     "metadata": {},
     "output_type": "execute_result"
    }
   ],
   "source": [
    "\"\"\"\"\n",
    "//Six directions + rest particles\n",
    "//  a   b     |   0   1\n",
    "//   \\ /      |    \\ /\n",
    "//f --g-- c   |  5--6--2\n",
    "//   / \\      |    / \\\n",
    "//  e   d     |   4   3\n",
    "\n",
    "a: top left\n",
    "b: top right\n",
    "c: right\n",
    "f: left\n",
    "e: bottom left\n",
    "d: bottom right\n",
    "\"\"\""
   ]
  },
  {
   "cell_type": "code",
   "execution_count": 141,
   "metadata": {},
   "outputs": [],
   "source": [
    "def get_neighbors(coordinates, config):\n",
    "    row, column = coordinates\n",
    "    neighbors = []\n",
    "    neighbors.append([row, (column+2)%columns]) #right\n",
    "    neighbors.append([(row-1)%rows, (column+1)%columns]) # top right\n",
    "    neighbors.append([(row-1)%rows, (column-1)%columns]) #top left\n",
    "    neighbors.append([row, (column-2)%columns]) #left\n",
    "    neighbors.append([(row+1)%rows, (column-1)%columns]) #bottom left\n",
    "    neighbors.append([(row+1)%rows, (column+1)%columns]) # bottom right\n",
    "    \n",
    "    return neighbors"
   ]
  },
  {
   "cell_type": "markdown",
   "metadata": {},
   "source": [
    "## Fullfill the grid\n",
    "\n",
    "write a function to fill the grid randomly with N particles:"
   ]
  },
  {
   "cell_type": "code",
   "execution_count": 142,
   "metadata": {},
   "outputs": [],
   "source": [
    "#getting all possible coordinates and choosing N radnomly:\n",
    "i_coords, j_coords = np.meshgrid(range(rows), range(columns), indexing='ij')\n",
    "coordinate_grid = np.array([i_coords, j_coords])\n",
    "all_coordinates = []\n",
    "for i in range(1, rows-1):\n",
    "    for j in range(1, columns-1):\n",
    "        all_coordinates.append(list(coordinate_grid[:, i, j]))\n",
    "        \n",
    "        \n",
    "def fill_random(N, config, d = False):\n",
    "    # define coordenadas una serie random\n",
    "    samples = random.sample(all_coordinates, N)\n",
    "    #ocupa con particulas esas coordenadas random\n",
    "    for row,column in samples:\n",
    "        config[row, column].occupied = 1\n",
    "        \n",
    "        #obtiene las coordenadas de los vecinos de las celdas actuales.\n",
    "        our_neighbors = get_neighbors([row, column], config)\n",
    "        while True:\n",
    "            if not d:\n",
    "                direction = random.choice([i for i in range(6)]) #Elije para la celda ocupada una dirección random\n",
    "            else:\n",
    "                direction = d-1\n",
    "            n_row, n_col = our_neighbors[direction] #Se fija la celda vecina en esa dirección\n",
    "            if not config[n_row,n_col].wall:    # si no es una pared\n",
    "                if config[n_row,n_col].occupied == 0:   # ni esta ocupado\n",
    "                    # el bucle continua buscando hasta encontrar una dirección proxima que no \n",
    "                    # este ni oucpada, ni que sea una pared, y cuando la encuentra le asigna\n",
    "                    # a la particula la dirección de ese hueco (d en el codigo, o Ni)\n",
    "                    config[n_row,n_col].ni_s[direction]=1   \n",
    "                    break\n",
    "     \n",
    "    return config"
   ]
  },
  {
   "cell_type": "code",
   "execution_count": 143,
   "metadata": {},
   "outputs": [],
   "source": [
    "# visualization\n",
    "my_grid = initialize(rows, columns)\n",
    "my_grid = fill_random(50, my_grid)\n",
    "#bserve(my_grid)"
   ]
  },
  {
   "cell_type": "markdown",
   "metadata": {},
   "source": [
    "## Collision"
   ]
  },
  {
   "cell_type": "markdown",
   "metadata": {},
   "source": [
    "### Double collision"
   ]
  },
  {
   "cell_type": "markdown",
   "metadata": {},
   "source": [
    "$D_i = n_in_{i+3}(1-n_{i+1})(1-n_{i+2})(1-n_{i+4})(1-n_{i+5})$\n",
    "\n",
    "If the quantity Dᵢ =1, then head-on collision is going to happen across i and i+3 and no particles will end up going in either of these two directions"
   ]
  },
  {
   "cell_type": "code",
   "execution_count": 144,
   "metadata": {},
   "outputs": [
    {
     "data": {
      "text/plain": [
       "'\\n//  0         |       1\\n//   \\\\ /      |    \\\\ /\\n//  --g--     |   --6--\\n//   / \\\\      |    / //      3     |   4   \\n'"
      ]
     },
     "execution_count": 144,
     "metadata": {},
     "output_type": "execute_result"
    }
   ],
   "source": [
    "\"\"\"\n",
    "//  0         |       1\n",
    "//   \\ /      |    \\ /\n",
    "//  --g--     |   --6--\n",
    "//   / \\      |    / \\\n",
    "//      3     |   4   \n",
    "\"\"\""
   ]
  },
  {
   "cell_type": "markdown",
   "metadata": {},
   "source": [
    "### Triple Collision"
   ]
  },
  {
   "cell_type": "markdown",
   "metadata": {},
   "source": [
    "$T_i = n_in_{i+2}n_{i+4}(1-n_{i+1})(1-n_{i+3})(1-n_{i+5})$\n",
    "\n",
    "Similar to Dᵢ, Tᵢ is either 0 or 1 and indicates whether three-body collision happens."
   ]
  },
  {
   "cell_type": "markdown",
   "metadata": {},
   "source": [
    "### Collision factor"
   ]
  },
  {
   "cell_type": "markdown",
   "metadata": {},
   "source": [
    "Its used to tell whether a collision (either head-on or three-body will happen). It’s given by the following formula: \n",
    "\n",
    "$\\Omega_i = -D_i +qD_{i-1}+(1-q)D_{i+1}-T_i +T_{i+3}$\n",
    "\n",
    "with $q=0$ or $q=1$ random\n",
    "\n",
    "$\\Omega_i$ can be $0$, $1$, or $-1$"
   ]
  },
  {
   "cell_type": "code",
   "execution_count": 145,
   "metadata": {},
   "outputs": [],
   "source": [
    "def D_i(n, i):\n",
    "    \"\"\"\n",
    "    The head-on collision function\n",
    "    \"\"\"\n",
    "    return n[i%6]*n[(i+3)%6]*(1-n[(i+1)%6])*(1-n[(i+2)%6])*(1-n[(i+4)%6])\n",
    "def T_i(n, i):\n",
    "    \"\"\"\n",
    "    The three-body collision function\n",
    "    \"\"\"\n",
    "    return n[i]*n[(i+2)%6]*n[(i+4)%6]*(1-n[(i+1)%6])*(1-n[(i+3)%6])*(1-n[(i+5)%6])\n",
    "def collision_factor(coords, config, i):\n",
    "    \"\"\"\n",
    "    The collision factor Ω\n",
    "    \"\"\"\n",
    "    q = random.choice([0, 1])\n",
    "    n = config[coords[0], coords[1]].ni_s\n",
    "    coll = -D_i(n, i)+q*D_i(n, (i-1)%6) + (1-q)*D_i(n, (i+1)%6) - T_i(n, i)+T_i(n, (i+3)%6)\n",
    "    return coll"
   ]
  },
  {
   "cell_type": "markdown",
   "metadata": {},
   "source": [
    "Now, we can finally put all these together to update our evolution equation to be the following:\n",
    "\n",
    "$n_i(\\vec{r}+\\Delta_r \\vec{c_i},t+\\Delta_t)=n_i(\\vec{r},t)+\\Omega_i(n,(\\vec{r},t))$"
   ]
  },
  {
   "cell_type": "markdown",
   "metadata": {},
   "source": [
    "## Simulation of the system"
   ]
  },
  {
   "cell_type": "markdown",
   "metadata": {},
   "source": [
    "In the function above, I’m basically doing the following steps:\n",
    "- For each cell in the lattice, if that cell is not a wall: \n",
    "    - Get all the neighbors of the cell\n",
    "    - For each neighbor, see if there is a particle coming in from that neighbor.\n",
    "        - If yes, let that particle in and remove it from the neighbor\n",
    "    - Then, for each of these neighbors, check if a particle will go to them from the current cell using the evolution equation (update their $n_i$s)\n",
    "        - If yes, update their $n_i$\n",
    "    - Check if any particle is about to hit the wall, and make it bounce back by updating its neighboring cell’s $n_i$"
   ]
  },
  {
   "cell_type": "code",
   "execution_count": 200,
   "metadata": {},
   "outputs": [],
   "source": [
    "def update(config):\n",
    "    next_config = initialize(rows,columns)\n",
    "    \n",
    "    for row in range(rows):\n",
    "        for column in range(columns): # for each cell in the grid\n",
    "            if not config[row, column].wall: # if it's not a wall\n",
    "                #get all of its neighbors    \n",
    "                our_neighbors = get_neighbors([row, column], config)\n",
    "                \n",
    "                \n",
    "                bounce_direc = [] # make this list to store if it's going to bounce off a wall\n",
    "                \n",
    "                for i in range(6):# for each neighbor\n",
    "                # start by letting the particle that is coming along i (from i+3) get in\n",
    "                    if config[row, column].ni_s[i] >0:\n",
    "                    # then update so that the coming particle can enter the cell\n",
    "                        next_config[row, column].occupied = 1\n",
    "                        th_row, th_col = our_neighbors[(i+3)%6] \n",
    "                        # the cell that sent that particle\n",
    "                        if not next_config[th_row, th_col].wall: \n",
    "                            next_config[th_row, th_col].occupied = 0         # update it to 0 since the particle moved already\n",
    "                        next_config[row, column].ni_s[i] = 0\n",
    "                    #then for each neghibor, check if something will pop inside them from this cell and change their n_i\n",
    "                    other_row, other_col = our_neighbors[i]\n",
    "                    #calculate its value using the FHP equation\n",
    "                    next_config[other_row,other_col].ni_s[i] = config[row, column].ni_s[i]+\\\n",
    "                                collision_factor([row, column], config, i)\n",
    "                    \n",
    "                    # check if any particle is hitting the wall:\n",
    "                    if next_config[other_row,other_col].wall and next_config[other_row,other_col].ni_s[i]>0:\n",
    "                        next_config[other_row,other_col].ni_s[i] = 0\n",
    "                        bounce_direc.append((i+3)%6) #store their bounce off directions\n",
    "\n",
    "                # imprimir mensaje solo si estamos en la pared izquierda\n",
    "                if config[:, 0]:\n",
    "                    print(f\"Celda [{row}, {column}] es la pared izquierda.\")\n",
    "\n",
    "                # if any particles were hiting the wall, send them back:        \n",
    "                if bounce_direc:\n",
    "                    next_config[row, column].ni_s[bounce_direc[0]] = 1\n",
    "                \n",
    "    return next_config"
   ]
  },
  {
   "cell_type": "markdown",
   "metadata": {},
   "source": [
    "## Main without grid"
   ]
  },
  {
   "cell_type": "code",
   "execution_count": 147,
   "metadata": {},
   "outputs": [
    {
     "data": {
      "image/png": "[encoded data removed]",
      "text/plain": [
       "<Figure size 1000x800 with 1 Axes>"
      ]
     },
     "metadata": {},
     "output_type": "display_data"
    },
    {
     "name": "stderr",
     "output_type": "stream",
     "text": [
      "100%|██████████| 200/200 [00:01<00:00, 119.68it/s]\n"
     ]
    },
    {
     "data": {
      "image/png": "[encoded data removed]",
      "text/plain": [
       "<Figure size 640x480 with 1 Axes>"
      ]
     },
     "metadata": {},
     "output_type": "display_data"
    }
   ],
   "source": [
    "def turn_state(config):\n",
    "    \"\"\"\n",
    "    A function to visualize the states\n",
    "    \"\"\"\n",
    "    view_grid = np.copy(config)\n",
    "    for i in range(len(config)):\n",
    "        for j in range(len(config)):\n",
    "            if type(config[i,j]) is not int:\n",
    "                view_grid[i, j] = config[i,j].occupied\n",
    "    view_grid = view_grid.astype(int)\n",
    "    return view_grid\n",
    "\n",
    "def build_animation(states, filename):\n",
    "    fig = plt.figure()\n",
    "    plt.axis('off')\n",
    "\n",
    "    ims = []\n",
    "    for state in states:\n",
    "        im = plt.imshow(state, animated=True, cmap='binary')\n",
    "        ims.append([im])\n",
    "\n",
    "    ani = animation.ArtistAnimation(fig, ims, interval=5, blit=True, repeat_delay=1000)\n",
    "    ani.save(filename, writer='pillow')\n",
    "\n",
    "# Main code\n",
    "my_grid = initialize(rows,columns)\n",
    "my_grid = fill_random(n_particles, my_grid)\n",
    "observe(my_grid)\n",
    "\n",
    "states = []\n",
    "states.append(turn_state(my_grid))\n",
    "next_grid = update(my_grid)\n",
    "states.append(turn_state(next_grid))\n",
    "states.append(turn_state(next_grid))\n",
    "\n",
    "for i in tqdm(range(200)):\n",
    "    next_grid = update(next_grid)\n",
    "    states.append(turn_state(next_grid))\n",
    "\n",
    "# Cambiar el nombre del archivo a .gif\n",
    "build_animation(states, \"video.gif\")"
   ]
  },
  {
   "cell_type": "markdown",
   "metadata": {},
   "source": [
    "## Main with grid"
   ]
  },
  {
   "cell_type": "code",
   "execution_count": 201,
   "metadata": {},
   "outputs": [
    {
     "ename": "ValueError",
     "evalue": "The truth value of an array with more than one element is ambiguous. Use a.any() or a.all()",
     "output_type": "error",
     "traceback": [
      "\u001b[0;31m---------------------------------------------------------------------------\u001b[0m",
      "\u001b[0;31mValueError\u001b[0m                                Traceback (most recent call last)",
      "Cell \u001b[0;32mIn[201], line 39\u001b[0m\n\u001b[1;32m     37\u001b[0m states \u001b[38;5;241m=\u001b[39m []\n\u001b[1;32m     38\u001b[0m states\u001b[38;5;241m.\u001b[39mappend(turn_state(my_grid))\n\u001b[0;32m---> 39\u001b[0m next_grid \u001b[38;5;241m=\u001b[39m \u001b[43mupdate\u001b[49m\u001b[43m(\u001b[49m\u001b[43mmy_grid\u001b[49m\u001b[43m)\u001b[49m\n\u001b[1;32m     40\u001b[0m states\u001b[38;5;241m.\u001b[39mappend(turn_state(next_grid))\n\u001b[1;32m     41\u001b[0m states\u001b[38;5;241m.\u001b[39mappend(turn_state(next_grid))\n",
      "Cell \u001b[0;32mIn[200], line 35\u001b[0m, in \u001b[0;36mupdate\u001b[0;34m(config)\u001b[0m\n\u001b[1;32m     32\u001b[0m         bounce_direc\u001b[38;5;241m.\u001b[39mappend((i\u001b[38;5;241m+\u001b[39m\u001b[38;5;241m3\u001b[39m)\u001b[38;5;241m%\u001b[39m\u001b[38;5;241m6\u001b[39m) \u001b[38;5;66;03m#store their bounce off directions\u001b[39;00m\n\u001b[1;32m     34\u001b[0m \u001b[38;5;66;03m# imprimir mensaje solo si estamos en la pared izquierda\u001b[39;00m\n\u001b[0;32m---> 35\u001b[0m \u001b[38;5;28;01mif\u001b[39;00m config[:, \u001b[38;5;241m0\u001b[39m]:\n\u001b[1;32m     36\u001b[0m     \u001b[38;5;28mprint\u001b[39m(\u001b[38;5;124mf\u001b[39m\u001b[38;5;124m\"\u001b[39m\u001b[38;5;124mCelda [\u001b[39m\u001b[38;5;132;01m{\u001b[39;00mrow\u001b[38;5;132;01m}\u001b[39;00m\u001b[38;5;124m, \u001b[39m\u001b[38;5;132;01m{\u001b[39;00mcolumn\u001b[38;5;132;01m}\u001b[39;00m\u001b[38;5;124m] es la pared izquierda.\u001b[39m\u001b[38;5;124m\"\u001b[39m)\n\u001b[1;32m     38\u001b[0m \u001b[38;5;66;03m# if any particles were hiting the wall, send them back:        \u001b[39;00m\n",
      "\u001b[0;31mValueError\u001b[0m: The truth value of an array with more than one element is ambiguous. Use a.any() or a.all()"
     ]
    }
   ],
   "source": [
    "def turn_state(config):\n",
    "    \"\"\"\n",
    "    A function to visualize the states\n",
    "    \"\"\"\n",
    "    view_grid = np.copy(config)\n",
    "    for i in range(len(config)):\n",
    "        for j in range(len(config[0])):\n",
    "            if type(config[i,j]) is not int:\n",
    "                view_grid[i, j] = config[i,j].occupied\n",
    "    view_grid = view_grid.astype(int)\n",
    "    return view_grid\n",
    "\n",
    "def build_animation(states, filename):\n",
    "    fig, ax = plt.subplots()\n",
    "    ax.axis('off')\n",
    "\n",
    "    ims = []\n",
    "    for state in states:\n",
    "        im = ax.imshow(state, animated=True, cmap='binary')\n",
    "        ims.append([im])\n",
    "\n",
    "    # Drawing the grid\n",
    "    rows, cols = states[0].shape\n",
    "    for row in range(rows):\n",
    "        ax.plot([0, cols-1], [row-0.5, row-0.5], 'k-', linewidth=0.5)\n",
    "    for col in range(cols):\n",
    "        ax.plot([col-0.5, col-0.5], [0, rows-1], 'k-', linewidth=0.5)\n",
    "\n",
    "    ani = animation.ArtistAnimation(fig, ims, interval=5, blit=True, repeat_delay=1000)\n",
    "    ani.save(filename, writer='pillow')\n",
    "\n",
    "# Main code\n",
    "my_grid = initialize(rows,columns)\n",
    "my_grid = fill_random(n_particles, my_grid)\n",
    "#observe(my_grid)\n",
    "\n",
    "states = []\n",
    "states.append(turn_state(my_grid))\n",
    "next_grid = update(my_grid)\n",
    "states.append(turn_state(next_grid))\n",
    "states.append(turn_state(next_grid))\n",
    "\n",
    "for i in range(200):\n",
    "    next_grid = update(next_grid)\n",
    "    states.append(turn_state(next_grid))\n",
    "\n",
    "# Cambiar el nombre del archivo a .gif\n",
    "build_animation(states, \"video_with_grid.gif\")"
   ]
  }
 ],
 "metadata": {
  "kernelspec": {
   "display_name": "Python 3",
   "language": "python",
   "name": "python3"
  },
  "language_info": {
   "codemirror_mode": {
    "name": "ipython",
    "version": 3
   },
   "file_extension": ".py",
   "mimetype": "text/x-python",
   "name": "python",
   "nbconvert_exporter": "python",
   "pygments_lexer": "ipython3",
   "version": "3.9.2"
  }
 },
 "nbformat": 4,
 "nbformat_minor": 2
}
